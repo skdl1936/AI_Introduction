{
 "cells": [
  {
   "cell_type": "code",
   "execution_count": null,
   "id": "77985a55-a06b-4ff8-8af6-fec52e4d3725",
   "metadata": {},
   "outputs": [],
   "source": [
    "## 붓꽃데이터\n",
    "\n",
    "- 붓꽃 데이터셋은 머신러닝과 통계학 분야에서 가장 널리 사용되는 예제 데이터셋 중 하나.\n",
    "\n",
    "## AI란? (중요)\n",
    "- AI란 데이터의 특성을 잘 (분석)파악하는 것을 말함\n",
    "\n",
    "## 데이터 불러오는 방법\n",
    "- 파일로부터 받기\n",
    "- 라이브러리에서 받아오기\n",
    "- 웹 주소에서 받아오기\n",
    "\n",
    "\n",
    "## 기존 프로그래밍 방법과 인공지능 프로그램의 차이점\n",
    "- 기존의 프로그램은 Data→ Rule → Result를 하지만\n",
    "- AI는 Data → Result → Rule 을 만드는 것을 말함\n",
    "- 쉽게 말하면\n",
    "- 기존: Input을 넣고 규칙을 만들면 output이 나오는형식\n",
    "- AI: input과 ouput을 넣으면 규칙을 만들어줌\n",
    "\n",
    "## AI 프로그램 진행과정\n",
    "1. 데이터 로드(x는 데이터, Y는 결과값) \n",
    "2. 학습/데이터 데이터 분할( 70% 학습, 30% 테스트) \n",
    "3. 모델 초기화 및 학습\n",
    "4. 예측 및 평가\n",
    "\n",
    "## 데이터를 나누는 이유\n",
    "- \n",
    "\n",
    "## 머신러닝과 딥러닝 차이( GPT로더 찾아볼것)\n",
    "- 머신러닝: 어떤 특징을 추출하고 모델이 집어넣는다.\n",
    "  -> 하지만 이러한 특징은 전문가의 지식이 필요하다.\n",
    "\n",
    "- 딥러닝: row Data를 모델에 특징을 추출하지도 않고 모델 자체에서 특징을 추출해줌\n",
    "- 특징을 추출하고 모델에 \n",
    "\n",
    "## 과제 \n",
    "1. AI 클래스에 질문있는거\n",
    "2. 파일 입력받아서 데이터 분석해서 코드를 깃ㅅ허브 업로드"
   ]
  },
  {
   "cell_type": "code",
   "execution_count": null,
   "id": "98953ba0-c21a-4ae1-9698-752f89bc4570",
   "metadata": {},
   "outputs": [],
   "source": []
  }
 ],
 "metadata": {
  "kernelspec": {
   "display_name": "Python 3 (ipykernel)",
   "language": "python",
   "name": "python3"
  },
  "language_info": {
   "codemirror_mode": {
    "name": "ipython",
    "version": 3
   },
   "file_extension": ".py",
   "mimetype": "text/x-python",
   "name": "python",
   "nbconvert_exporter": "python",
   "pygments_lexer": "ipython3",
   "version": "3.12.7"
  }
 },
 "nbformat": 4,
 "nbformat_minor": 5
}
