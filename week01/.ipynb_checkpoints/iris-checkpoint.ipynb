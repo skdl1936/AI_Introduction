{
 "cells": [
  {
   "cell_type": "code",
   "execution_count": 6,
   "id": "9132d02f-550d-4684-8a04-dc11efee5e3d",
   "metadata": {},
   "outputs": [
    {
     "name": "stdout",
     "output_type": "stream",
     "text": [
      "C:\\Users\\kang\\AI_Introduction\\week01\n"
     ]
    }
   ],
   "source": [
    "!cd"
   ]
  },
  {
   "cell_type": "code",
   "execution_count": 3,
   "id": "dcb79be9-40e7-47bc-9ddf-fa0760496245",
   "metadata": {},
   "outputs": [
    {
     "name": "stdout",
     "output_type": "stream",
     "text": [
      "   SepalLength  SepalWidth  PetalLength  PetalWidth         Name\n",
      "0          5.1         3.5          1.4         0.2  Iris-setosa\n",
      "1          4.9         3.0          1.4         0.2  Iris-setosa\n",
      "2          4.7         3.2          1.3         0.2  Iris-setosa\n",
      "3          4.6         3.1          1.5         0.2  Iris-setosa\n",
      "4          5.0         3.6          1.4         0.2  Iris-setosa\n",
      "['SepalLength', 'SepalWidth', 'PetalLength', 'PetalWidth', 'Name']\n"
     ]
    }
   ],
   "source": [
    "import pandas as pd\n",
    "\n",
    "# 붓꽃 데이터 CSV 파일 읽기\n",
    "file_path = \"C:/Users/kang/AI_Introduction/week01/iris.csv\"  # 본인이 iris.csv를 저장한 경로를 입력합니다.\n",
    "df = pd.read_csv(file_path)\n",
    "\n",
    "# 데이터프레임 확인\n",
    "# 상위 5개의 행을 출력\n",
    "print(df.head())\n",
    "\n",
    "# 열 이름 출력\n",
    "print(df.columns.to_list())\n"
   ]
  },
  {
   "cell_type": "code",
   "execution_count": 11,
   "id": "56864e19-f23d-49a4-9086-6dc40f3409c4",
   "metadata": {},
   "outputs": [
    {
     "name": "stdout",
     "output_type": "stream",
     "text": [
      "결정 트리 정확도: 1.00\n",
      "                 precision    recall  f1-score   support\n",
      "\n",
      "    Iris-setosa       1.00      1.00      1.00        19\n",
      "Iris-versicolor       1.00      1.00      1.00        13\n",
      " Iris-virginica       1.00      1.00      1.00        13\n",
      "\n",
      "       accuracy                           1.00        45\n",
      "      macro avg       1.00      1.00      1.00        45\n",
      "   weighted avg       1.00      1.00      1.00        45\n",
      "\n"
     ]
    }
   ],
   "source": [
    "#DT (결정 트리)\n",
    "#결정 트리는 데이터를 분류하기 위해 트리 형태의 의사 결정 구조를 사용함\n",
    "# 각 내부 노드에서 질문을 하고, 가지를 따라 내려가면서 최종 결정\n",
    "\n",
    "from sklearn.preprocessing import LabelEncoder # 라벨링을 위한 라이브러리\n",
    "from sklearn.model_selection import train_test_split # 데이터 분할\n",
    "from sklearn.tree import DecisionTreeClassifier # 결정 트리 모델 \n",
    "from sklearn.metrics import accuracy_score, classification_report # 결과(정확도) 볼때 사용할 것\n",
    "\n",
    "#타깃 변수 준비\n",
    "encoder = LabelEncoder()\n",
    "df['target'] = encoder.fit_transform(df['Name']) # 라벨을 인코딩하여 0,1,2로 변경\n",
    "\n",
    "# 특징과 타깃 분리\n",
    "X = df[['SepalLength', 'SepalWidth', 'PetalLength', 'PetalWidth']]\n",
    "y = df['target']\n",
    "\n",
    "\n",
    "# 학습/테스트 데이터 분할\n",
    "X_train, X_test, y_train, y_test = train_test_split(\n",
    "    X,y,\n",
    "    test_size = 0.3, # 전체 데이터 중 30%를 테스트용으로 사용\n",
    "    random_state=42 # 재현성(실행할 때마다 동일 결과)을 위해 시드 고정 \n",
    ")\n",
    "\n",
    "# 결정 트리 모델 생성 및 학습\n",
    "df_clf = DecisionTreeClassifier(random_state=42) # 결정트리 모델을 생성\n",
    "df_clf.fit(X_train, y_train) # 학습\n",
    "\n",
    "# 예측 및 평가\n",
    "y_pred = df_clf.predict(X_test)\n",
    "\n",
    "# 정확도 계산\n",
    "accuracy = accuracy_score(y_test, y_pred)\n",
    "print(f'결정 트리 정확도: {accuracy:.2f}')\n",
    "\n",
    "#정밀도, 재현율 , F1 점수등을 포함한 상세 보고서\n",
    "# target_names를 지정하면 라벨 번호(0,1,2)에 대응하는 실제 품종명이 표시된다.\n",
    "print(classification_report(y_test,y_pred, target_names=encoder.classes_))\n"
   ]
  },
  {
   "cell_type": "code",
   "execution_count": 19,
   "id": "92775ce2-2000-42f9-b1df-0cd7e2a29105",
   "metadata": {},
   "outputs": [
    {
     "name": "stdout",
     "output_type": "stream",
     "text": [
      "랜덤 포레스트 정확도: 1.00\n",
      "                 precision    recall  f1-score   support\n",
      "\n",
      "    Iris-setosa       1.00      1.00      1.00        19\n",
      "Iris-versicolor       1.00      1.00      1.00        13\n",
      " Iris-virginica       1.00      1.00      1.00        13\n",
      "\n",
      "       accuracy                           1.00        45\n",
      "      macro avg       1.00      1.00      1.00        45\n",
      "   weighted avg       1.00      1.00      1.00        45\n",
      "\n"
     ]
    }
   ],
   "source": [
    "# RF(랜덤 포레스트) \n",
    "# 여러개의 결정 트리를 무작위로 구성함\n",
    "# 각각의 예측 결과를 종합하여 최종 결과를 내는 기법\n",
    "# 단일 결정 트리보다 과적합에 덜 민감하고 일반화 성능이 향상됨\n",
    "\n",
    "from sklearn.preprocessing import LabelEncoder\n",
    "from sklearn.model_selection import train_test_split\n",
    "from sklearn.ensemble import RandomForestClassifier\n",
    "from sklearn.metrics import accuracy_score, classification_report\n",
    "\n",
    "encoder = LabelEncoder()\n",
    "df['target'] = encoder.fit_transform(df['Name'])\n",
    "\n",
    "# 특징과 결과 분리하기\n",
    "X = df[['SepalLength','SepalWidth','PetalLength','PetalWidth']]\n",
    "y = df['target']\n",
    "\n",
    "# 훈련 데이터 테스트데이터 분리하기\n",
    "X_train, X_test, y_train, y_test = train_test_split(\n",
    "    X,y,\n",
    "    test_size = 0.3,\n",
    "    random_state=42\n",
    ")\n",
    "\n",
    "# 랜덤 포레스트 모델 생성 학습\n",
    "rf_clf = RandomForestClassifier(random_state=42)\n",
    "rf_clf.fit(X_train, y_train)\n",
    "\n",
    "# 테스트 데이터로 예측, 평가\n",
    "y_pred = rf_clf.predict(X_test)\n",
    "\n",
    "#정확도 -> 이때 테스트 데이터의 결과와 훈련된 모델에 데이터를 넣은 결과가 얼마나 차이나는지 측정해봄\n",
    "accuracy = accuracy_score(y_test, y_pred)\n",
    "print(f'랜덤 포레스트 정확도: {accuracy:.2f}')\n",
    "\n",
    "# 정밀도, 재현율, f1점수\n",
    "print(classification_report(y_test,y_pred,target_names=encoder.classes_))\n",
    "\n",
    "\n",
    "\n",
    "\n"
   ]
  },
  {
   "cell_type": "code",
   "execution_count": 7,
   "id": "fb31f625-d445-436d-8720-5d4df09089c5",
   "metadata": {},
   "outputs": [
    {
     "name": "stdout",
     "output_type": "stream",
     "text": [
      "SVM 정확도:  1.00\n",
      "                 precision    recall  f1-score   support\n",
      "\n",
      "    Iris-setosa       1.00      1.00      1.00        19\n",
      "Iris-versicolor       1.00      1.00      1.00        13\n",
      " Iris-virginica       1.00      1.00      1.00        13\n",
      "\n",
      "       accuracy                           1.00        45\n",
      "      macro avg       1.00      1.00      1.00        45\n",
      "   weighted avg       1.00      1.00      1.00        45\n",
      "\n"
     ]
    }
   ],
   "source": [
    "# SVM(서포트 벡터 머신)\n",
    "# 데이터 포인트를 분류하기 위해 최대 마진을 가지는 결정 경계를 찾는 알고리즘\n",
    "# 선형 분류뿐 아니라 커널 함수를 사용하여 비선형 분류에도 활용 가능\n",
    "from sklearn.preprocessing import LabelEncoder\n",
    "from sklearn.model_selection import train_test_split\n",
    "from sklearn.svm import SVC\n",
    "from sklearn.metrics import accuracy_score, classification_report\n",
    "\n",
    "encoder = LabelEncoder()\n",
    "df['target'] = encoder.fit_transform(df['Name'])\n",
    "\n",
    "X = df[['SepalLength','SepalWidth','PetalLength','PetalWidth']]\n",
    "y = df['target']\n",
    "\n",
    "X_train, X_test, y_train, y_test = train_test_split(\n",
    "    X,y,\n",
    "    test_size = 0.3,\n",
    "    random_state=42\n",
    ")\n",
    "\n",
    "svm_clf = SVC(random_state=42)\n",
    "svm_clf.fit(X_train, y_train)\n",
    "\n",
    "y_pred = svm_clf.predict(X_test)\n",
    "\n",
    "accuracy = accuracy_score(y_test, y_pred)\n",
    "print(f\"SVM 정확도: {accuracy: 0.2f}\")\n",
    "\n",
    "print(classification_report(y_test, y_pred, target_names=encoder.classes_))"
   ]
  },
  {
   "cell_type": "code",
   "execution_count": 19,
   "id": "3ea53143-a744-4f28-b767-e2cd48704623",
   "metadata": {},
   "outputs": [
    {
     "name": "stdout",
     "output_type": "stream",
     "text": [
      "로지스틱 회귀 정확도:  1.00\n",
      "                 precision    recall  f1-score   support\n",
      "\n",
      "    Iris-setosa       1.00      1.00      1.00        19\n",
      "Iris-versicolor       1.00      1.00      1.00        13\n",
      " Iris-virginica       1.00      1.00      1.00        13\n",
      "\n",
      "       accuracy                           1.00        45\n",
      "      macro avg       1.00      1.00      1.00        45\n",
      "   weighted avg       1.00      1.00      1.00        45\n",
      "\n"
     ]
    },
    {
     "name": "stderr",
     "output_type": "stream",
     "text": [
      "C:\\Users\\kang\\anaconda3\\Lib\\site-packages\\sklearn\\linear_model\\_logistic.py:1247: FutureWarning: 'multi_class' was deprecated in version 1.5 and will be removed in 1.7. From then on, it will always use 'multinomial'. Leave it to its default value to avoid this warning.\n",
      "  warnings.warn(\n"
     ]
    }
   ],
   "source": [
    "#LR (로지스틱 회귀)\n",
    "# 회귀 분석의 한종류로, 결과를 확률로 해석하여 분류에 사용\n",
    "# 시그모이드 함수를 통해 입력 데이터가 특정 클래스에 속할 확률을 예측\n",
    "\n",
    "from sklearn.preprocessing import LabelEncoder\n",
    "from sklearn.model_selection import train_test_split\n",
    "from sklearn.linear_model import LogisticRegression\n",
    "from sklearn.metrics import accuracy_score, classification_report\n",
    "\n",
    "encoder = LabelEncoder()\n",
    "df['target'] = encoder.fit_transform(df['Name'])\n",
    "\n",
    "X = df[['SepalLength','SepalWidth','PetalLength','PetalWidth']]\n",
    "y = df['target']\n",
    "\n",
    "X_train, X_test, y_train, y_test = train_test_split(\n",
    "    X,y,\n",
    "    test_size=0.3,\n",
    "    random_state=42\n",
    ")\n",
    "\n",
    "lr_clf = LogisticRegression(max_iter=200, solver='lbfgs', multi_class='auto')\n",
    "lr_clf.fit(X_train, y_train)\n",
    "\n",
    "y_pred = lr_clf.predict(X_test)\n",
    "\n",
    "accuracy = accuracy_score(y_test, y_pred)\n",
    "print(f'로지스틱 회귀 정확도: {accuracy: .2f}')\n",
    "\n",
    "print(classification_report(y_test,y_pred, target_names=encoder.classes_))"
   ]
  },
  {
   "cell_type": "code",
   "execution_count": null,
   "id": "077336ce-c2bf-42dd-9b21-16577285f372",
   "metadata": {},
   "outputs": [],
   "source": []
  }
 ],
 "metadata": {
  "kernelspec": {
   "display_name": "Python [conda env:base] *",
   "language": "python",
   "name": "conda-base-py"
  },
  "language_info": {
   "codemirror_mode": {
    "name": "ipython",
    "version": 3
   },
   "file_extension": ".py",
   "mimetype": "text/x-python",
   "name": "python",
   "nbconvert_exporter": "python",
   "pygments_lexer": "ipython3",
   "version": "3.12.7"
  }
 },
 "nbformat": 4,
 "nbformat_minor": 5
}
