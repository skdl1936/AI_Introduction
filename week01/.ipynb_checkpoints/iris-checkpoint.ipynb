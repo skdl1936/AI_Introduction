{
 "cells": [
  {
   "cell_type": "code",
   "execution_count": 7,
   "id": "9132d02f-550d-4684-8a04-dc11efee5e3d",
   "metadata": {},
   "outputs": [
    {
     "name": "stdout",
     "output_type": "stream",
     "text": [
      "C:\\Users\\xogns\\AI_Introduction\\week01\n"
     ]
    }
   ],
   "source": [
    "!cd"
   ]
  },
  {
   "cell_type": "code",
   "execution_count": 10,
   "id": "dcb79be9-40e7-47bc-9ddf-fa0760496245",
   "metadata": {},
   "outputs": [
    {
     "ename": "SyntaxError",
     "evalue": "(unicode error) 'unicodeescape' codec can't decode bytes in position 2-3: truncated \\UXXXXXXXX escape (4161268034.py, line 4)",
     "output_type": "error",
     "traceback": [
      "\u001b[1;36m  Cell \u001b[1;32mIn[10], line 4\u001b[1;36m\u001b[0m\n\u001b[1;33m    file_path = \"C:\\Users\\xogns\\AI_Introduction\\week01/iris.csv\"  # 본인이 iris.csv를 저장한 경로를 입력합니다.\u001b[0m\n\u001b[1;37m                ^\u001b[0m\n\u001b[1;31mSyntaxError\u001b[0m\u001b[1;31m:\u001b[0m (unicode error) 'unicodeescape' codec can't decode bytes in position 2-3: truncated \\UXXXXXXXX escape\n"
     ]
    }
   ],
   "source": [
    "import pandas as pd\n",
    "\n",
    "# 붓꽃 데이터 CSV 파일 읽기\n",
    "file_path = \"C:\\Users\\xogns\\AI_Introduction\\week01/iris.csv\"  # 본인이 iris.csv를 저장한 경로를 입력합니다.\n",
    "df = pd.read_csv(file_path)\n",
    "\n",
    "# 데이터프레임 확인\n",
    "# 데이터프레임의 상위 5개 행을 출력하여 데이터의 구조와 일부 내용을 미리 확인할 수 있습니다.\n",
    "df.head()\n",
    "\n",
    "# 데이터프레임에 포함된 컬럼(열)의 이름들을 출력합니다.\n",
    "df.columns()\n"
   ]
  },
  {
   "cell_type": "code",
   "execution_count": null,
   "id": "e8a0b5ef-01dc-4751-a87c-f09b462e9717",
   "metadata": {},
   "outputs": [],
   "source": []
  }
 ],
 "metadata": {
  "kernelspec": {
   "display_name": "Python 3 (ipykernel)",
   "language": "python",
   "name": "python3"
  },
  "language_info": {
   "codemirror_mode": {
    "name": "ipython",
    "version": 3
   },
   "file_extension": ".py",
   "mimetype": "text/x-python",
   "name": "python",
   "nbconvert_exporter": "python",
   "pygments_lexer": "ipython3",
   "version": "3.12.7"
  }
 },
 "nbformat": 4,
 "nbformat_minor": 5
}
