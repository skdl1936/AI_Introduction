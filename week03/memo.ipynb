{
 "cells": [
  {
   "metadata": {},
   "cell_type": "markdown",
   "source": [
    "# 분류와 회귀\n",
    "## 분류\n",
    "- 이산적이다.\n",
    "- 연관성이 없으면 분류\n",
    "-\n",
    "## 회귀\n",
    "- 연속적이다.\n",
    "- 연관성이 있으면 회귀\n",
    "- 예: 나이,\n",
    "\n",
    "\n",
    "## one-hot-encodeing\n",
    "- 001, 010, 100 이런식으로 인코딩하는것을 말함\n",
    "- 이걸통해서 원래는 분류였던 A는노인 B는 30원 이렇게있을떄\n",
    "- 인코딩하면 0,1 이런식으로 회귀로 바뀌므로\n",
    "- 핫 인코딩을 사용해준다.\n",
    "\n",
    "# 피쳐 셀렉션\n",
    "- 피쳐들을 선택해서 모든 레이블을 전부 사용하는게 아닌\n",
    "- 필요한것들만 사용하는것을 말함\n",
    "- 오히려 레이블이 많아지면 노이즈가 발생할 수 있음\n",
    "\n",
    "# 상관관계\n",
    "- 교수님 깃허브 2. ML_regression_boston.ipynb 4,5번 셀을 확인해보면 확인이 가능하다\n",
    "\n",
    "# 책\n",
    "- 실습 1.3에서 knn의 최적의 n 구하기 한번 해볼것\n",
    "\n",
    "# 샘플링\n",
    "- 샘플을 어떻게 잡느냐에 따라서 데이터의 결과가 달라질 수 있음\n",
    "- 데이터를 섞어야 데이터 편향이 생기지 않음\n",
    "- 즉, 훈련데이터와 테스트데이터가 충분히 섞여있어야한다.\n",
    "\n",
    "# 데이터 처리과정\n",
    "- 데이터 수집\n",
    "- 전처리: 데이터를 모델에 넣을떄 성능이 좋게하는 모든것을 말함 -> 즉 모델에 넣기전 하는 모든 과정들을 말함\n",
    "    - 스켈링은 2-2그림에 도미와 분류의 차이를 낸것처럼 표준편차를 사용하여 데이터를 0과 1로 나누어 표시하는 것을 말함(좀더 찾아볼것)\n",
    "- 모델훈련\n",
    "- 평가"
   ],
   "id": "acec231912f39885"
  },
  {
   "metadata": {},
   "cell_type": "code",
   "outputs": [],
   "execution_count": null,
   "source": "",
   "id": "902287377463a9c"
  }
 ],
 "metadata": {
  "kernelspec": {
   "display_name": "Python 3",
   "language": "python",
   "name": "python3"
  },
  "language_info": {
   "codemirror_mode": {
    "name": "ipython",
    "version": 2
   },
   "file_extension": ".py",
   "mimetype": "text/x-python",
   "name": "python",
   "nbconvert_exporter": "python",
   "pygments_lexer": "ipython2",
   "version": "2.7.6"
  }
 },
 "nbformat": 4,
 "nbformat_minor": 5
}
