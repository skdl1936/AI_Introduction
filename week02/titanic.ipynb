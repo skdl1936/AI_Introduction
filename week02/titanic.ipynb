{
 "cells": [
  {
   "metadata": {
    "ExecuteTime": {
     "end_time": "2025-03-12T04:58:33.285832Z",
     "start_time": "2025-03-12T04:58:33.268399Z"
    }
   },
   "cell_type": "code",
   "source": "!cd",
   "id": "e47c5e2834d89cd6",
   "outputs": [
    {
     "name": "stdout",
     "output_type": "stream",
     "text": [
      "D:\\AI_Introduction\\week02\n"
     ]
    }
   ],
   "execution_count": 2
  },
  {
   "metadata": {
    "collapsed": true,
    "ExecuteTime": {
     "end_time": "2025-03-12T04:58:35.026096Z",
     "start_time": "2025-03-12T04:58:33.982495Z"
    }
   },
   "cell_type": "code",
   "source": [
    "# titanic.csv는 Survived가 레이블\n",
    "\n",
    "import pandas as pd\n",
    "\n",
    "file_path = \"D:/AI_Introduction/week02/dataset/titanic.csv\"\n",
    "df = pd.read_csv(file_path)\n"
   ],
   "id": "initial_id",
   "outputs": [],
   "execution_count": 3
  },
  {
   "metadata": {
    "ExecuteTime": {
     "end_time": "2025-03-12T04:58:37.632271Z",
     "start_time": "2025-03-12T04:58:37.620502Z"
    }
   },
   "cell_type": "code",
   "source": [
    "#레이블 개수 확인\n",
    "df[\"Survived\"].value_counts()"
   ],
   "id": "a46489d867a3ed04",
   "outputs": [
    {
     "data": {
      "text/plain": [
       "Survived\n",
       "0    549\n",
       "1    342\n",
       "Name: count, dtype: int64"
      ]
     },
     "execution_count": 4,
     "metadata": {},
     "output_type": "execute_result"
    }
   ],
   "execution_count": 4
  },
  {
   "metadata": {
    "ExecuteTime": {
     "end_time": "2025-03-12T04:58:38.652904Z",
     "start_time": "2025-03-12T04:58:38.647614Z"
    }
   },
   "cell_type": "code",
   "source": [
    "# 결측치 확인\n",
    "df.isnull().sum()"
   ],
   "id": "655dc715f24ae1f2",
   "outputs": [
    {
     "data": {
      "text/plain": [
       "PassengerId      0\n",
       "Survived         0\n",
       "Pclass           0\n",
       "Name             0\n",
       "Sex              0\n",
       "Age            177\n",
       "SibSp            0\n",
       "Parch            0\n",
       "Ticket           0\n",
       "Fare             0\n",
       "Cabin          687\n",
       "Embarked         2\n",
       "dtype: int64"
      ]
     },
     "execution_count": 5,
     "metadata": {},
     "output_type": "execute_result"
    }
   ],
   "execution_count": 5
  },
  {
   "metadata": {
    "ExecuteTime": {
     "end_time": "2025-03-12T04:58:39.445468Z",
     "start_time": "2025-03-12T04:58:39.432614Z"
    }
   },
   "cell_type": "code",
   "source": [
    "# 결측치(NaN) 값을 평균으로 채우는 방법\n",
    "df['Age'].fillna(df['Age'].mean(), inplace = True)\n",
    "df[\"Cabin\"].fillna(\"Unknown\", inplace=True)\n",
    "\n",
    "print(df)"
   ],
   "id": "c2f8e8bff8e2e369",
   "outputs": [
    {
     "name": "stdout",
     "output_type": "stream",
     "text": [
      "     PassengerId  Survived  Pclass  \\\n",
      "0              1         0       3   \n",
      "1              2         1       1   \n",
      "2              3         1       3   \n",
      "3              4         1       1   \n",
      "4              5         0       3   \n",
      "..           ...       ...     ...   \n",
      "886          887         0       2   \n",
      "887          888         1       1   \n",
      "888          889         0       3   \n",
      "889          890         1       1   \n",
      "890          891         0       3   \n",
      "\n",
      "                                                  Name     Sex        Age  \\\n",
      "0                              Braund, Mr. Owen Harris    male  22.000000   \n",
      "1    Cumings, Mrs. John Bradley (Florence Briggs Th...  female  38.000000   \n",
      "2                               Heikkinen, Miss. Laina  female  26.000000   \n",
      "3         Futrelle, Mrs. Jacques Heath (Lily May Peel)  female  35.000000   \n",
      "4                             Allen, Mr. William Henry    male  35.000000   \n",
      "..                                                 ...     ...        ...   \n",
      "886                              Montvila, Rev. Juozas    male  27.000000   \n",
      "887                       Graham, Miss. Margaret Edith  female  19.000000   \n",
      "888           Johnston, Miss. Catherine Helen \"Carrie\"  female  29.699118   \n",
      "889                              Behr, Mr. Karl Howell    male  26.000000   \n",
      "890                                Dooley, Mr. Patrick    male  32.000000   \n",
      "\n",
      "     SibSp  Parch            Ticket     Fare    Cabin Embarked  \n",
      "0        1      0         A/5 21171   7.2500  Unknown        S  \n",
      "1        1      0          PC 17599  71.2833      C85        C  \n",
      "2        0      0  STON/O2. 3101282   7.9250  Unknown        S  \n",
      "3        1      0            113803  53.1000     C123        S  \n",
      "4        0      0            373450   8.0500  Unknown        S  \n",
      "..     ...    ...               ...      ...      ...      ...  \n",
      "886      0      0            211536  13.0000  Unknown        S  \n",
      "887      0      0            112053  30.0000      B42        S  \n",
      "888      1      2        W./C. 6607  23.4500  Unknown        S  \n",
      "889      0      0            111369  30.0000     C148        C  \n",
      "890      0      0            370376   7.7500  Unknown        Q  \n",
      "\n",
      "[891 rows x 12 columns]\n"
     ]
    },
    {
     "name": "stderr",
     "output_type": "stream",
     "text": [
      "C:\\Users\\Administrator\\AppData\\Local\\Temp\\ipykernel_22144\\4010179244.py:2: FutureWarning: A value is trying to be set on a copy of a DataFrame or Series through chained assignment using an inplace method.\n",
      "The behavior will change in pandas 3.0. This inplace method will never work because the intermediate object on which we are setting values always behaves as a copy.\n",
      "\n",
      "For example, when doing 'df[col].method(value, inplace=True)', try using 'df.method({col: value}, inplace=True)' or df[col] = df[col].method(value) instead, to perform the operation inplace on the original object.\n",
      "\n",
      "\n",
      "  df['Age'].fillna(df['Age'].mean(), inplace = True)\n",
      "C:\\Users\\Administrator\\AppData\\Local\\Temp\\ipykernel_22144\\4010179244.py:3: FutureWarning: A value is trying to be set on a copy of a DataFrame or Series through chained assignment using an inplace method.\n",
      "The behavior will change in pandas 3.0. This inplace method will never work because the intermediate object on which we are setting values always behaves as a copy.\n",
      "\n",
      "For example, when doing 'df[col].method(value, inplace=True)', try using 'df.method({col: value}, inplace=True)' or df[col] = df[col].method(value) instead, to perform the operation inplace on the original object.\n",
      "\n",
      "\n",
      "  df[\"Cabin\"].fillna(\"Unknown\", inplace=True)\n"
     ]
    }
   ],
   "execution_count": 6
  },
  {
   "metadata": {
    "ExecuteTime": {
     "end_time": "2025-03-12T04:58:53.526355Z",
     "start_time": "2025-03-12T04:58:53.517453Z"
    }
   },
   "cell_type": "code",
   "source": [
    "# 여러 개의 컬럼 삭제\n",
    "df = df.drop(columns = ['Name','Embarked'])\n",
    "print(df)"
   ],
   "id": "6a23ade4f678c580",
   "outputs": [
    {
     "name": "stdout",
     "output_type": "stream",
     "text": [
      "     PassengerId  Survived  Pclass     Sex        Age  SibSp  Parch  \\\n",
      "0              1         0       3    male  22.000000      1      0   \n",
      "1              2         1       1  female  38.000000      1      0   \n",
      "2              3         1       3  female  26.000000      0      0   \n",
      "3              4         1       1  female  35.000000      1      0   \n",
      "4              5         0       3    male  35.000000      0      0   \n",
      "..           ...       ...     ...     ...        ...    ...    ...   \n",
      "886          887         0       2    male  27.000000      0      0   \n",
      "887          888         1       1  female  19.000000      0      0   \n",
      "888          889         0       3  female  29.699118      1      2   \n",
      "889          890         1       1    male  26.000000      0      0   \n",
      "890          891         0       3    male  32.000000      0      0   \n",
      "\n",
      "               Ticket     Fare    Cabin  \n",
      "0           A/5 21171   7.2500  Unknown  \n",
      "1            PC 17599  71.2833      C85  \n",
      "2    STON/O2. 3101282   7.9250  Unknown  \n",
      "3              113803  53.1000     C123  \n",
      "4              373450   8.0500  Unknown  \n",
      "..                ...      ...      ...  \n",
      "886            211536  13.0000  Unknown  \n",
      "887            112053  30.0000      B42  \n",
      "888        W./C. 6607  23.4500  Unknown  \n",
      "889            111369  30.0000     C148  \n",
      "890            370376   7.7500  Unknown  \n",
      "\n",
      "[891 rows x 10 columns]\n"
     ]
    }
   ],
   "execution_count": 7
  },
  {
   "metadata": {
    "ExecuteTime": {
     "end_time": "2025-03-12T04:58:54.233098Z",
     "start_time": "2025-03-12T04:58:54.230874Z"
    }
   },
   "cell_type": "code",
   "source": "",
   "id": "ef4723e9292cb2a5",
   "outputs": [],
   "execution_count": null
  },
  {
   "metadata": {},
   "cell_type": "code",
   "outputs": [],
   "execution_count": null,
   "source": "",
   "id": "53d1ee4760b4d16"
  }
 ],
 "metadata": {
  "kernelspec": {
   "display_name": "Python 3",
   "language": "python",
   "name": "python3"
  },
  "language_info": {
   "codemirror_mode": {
    "name": "ipython",
    "version": 2
   },
   "file_extension": ".py",
   "mimetype": "text/x-python",
   "name": "python",
   "nbconvert_exporter": "python",
   "pygments_lexer": "ipython2",
   "version": "2.7.6"
  }
 },
 "nbformat": 4,
 "nbformat_minor": 5
}
