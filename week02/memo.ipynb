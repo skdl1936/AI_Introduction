{
 "cells": [
  {
   "metadata": {},
   "cell_type": "markdown",
   "source": [
    "## KNN 알고리즘\n",
    "- 지도학습 알고리즘\n",
    "- 목적: 레이블을 결정\n",
    "- 새로운 데이터가 주어졌을떄, 가장 가까운 K개의 이웃을 찾아 다수결 또는 평균을 통해 분류하거나 예측함\n",
    "\n"
   ],
   "id": "7e51173fe961be31"
  },
  {
   "metadata": {},
   "cell_type": "markdown",
   "source": "",
   "id": "d2d5b6b7dda57f76"
  }
 ],
 "metadata": {
  "kernelspec": {
   "display_name": "Python 3",
   "language": "python",
   "name": "python3"
  },
  "language_info": {
   "codemirror_mode": {
    "name": "ipython",
    "version": 2
   },
   "file_extension": ".py",
   "mimetype": "text/x-python",
   "name": "python",
   "nbconvert_exporter": "python",
   "pygments_lexer": "ipython2",
   "version": "2.7.6"
  }
 },
 "nbformat": 4,
 "nbformat_minor": 5
}
