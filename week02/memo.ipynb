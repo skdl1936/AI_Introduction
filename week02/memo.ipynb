{
 "cells": [
  {
   "metadata": {},
   "cell_type": "markdown",
   "source": [
    "## KNN 알고리즘\n",
    "- 지도학습 알고리즘\n",
    "- 목적: 레이블을 결정\n",
    "- 새로운 데이터가 주어졌을떄, 가장 가까운 K개의 이웃을 찾아 다수결 또는 평균을 통해 분류하거나 예측함\n",
    "\n"
   ],
   "id": "7e51173fe961be31"
  },
  {
   "metadata": {},
   "cell_type": "markdown",
   "source": [
    "## 데이터 프레임과 넘파이\n",
    "### 데이터프레임\n",
    "- 컬럼명이 있는것을 말함\n",
    "- 장점: 컬럼명에 의해 어떤 데이터를 합치고 나누는게 편함\n",
    "\n",
    "### 넘파이\n",
    "- 매우 빠름\n",
    "- 수치적 배열\n",
    "- 머신러닝은 데이터 프레임으로도 가능하지만\n",
    "- 딥러닝은 데이터프레임을 넘파이로 바꿔야함"
   ],
   "id": "d2d5b6b7dda57f76"
  },
  {
   "metadata": {},
   "cell_type": "markdown",
   "source": [
    "## 머신러닝과 딥러닝에서 문자 텍스트\n",
    "- 머신러닝과 딥러닝 모델은 숫자만 처리할 수 있음\n",
    "- 문자 데이터(텍스트)는 숫자로 변환(Encoding)해야 한다.\n",
    "- 문자를 숫자로 변환하는 방법은 범주형 데이터와 자연어 처리 방식에 따라 적용해야함\n",
    "\n",
    "## 해야할것\n",
    "- 타이타닉 가지고 5가지 다하고 , 레이블 읽고, 결측치 제거\n",
    "    - 이름 삭제, 성별 인코딩, 티켓명 삭제, cabin삭제, embarked 삭제, age는 채우기"
   ],
   "id": "950f1141eab11a46"
  }
 ],
 "metadata": {
  "kernelspec": {
   "display_name": "Python 3",
   "language": "python",
   "name": "python3"
  },
  "language_info": {
   "codemirror_mode": {
    "name": "ipython",
    "version": 2
   },
   "file_extension": ".py",
   "mimetype": "text/x-python",
   "name": "python",
   "nbconvert_exporter": "python",
   "pygments_lexer": "ipython2",
   "version": "2.7.6"
  }
 },
 "nbformat": 4,
 "nbformat_minor": 5
}
