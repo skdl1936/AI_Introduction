{
 "cells": [
  {
   "cell_type": "code",
   "id": "initial_id",
   "metadata": {
    "collapsed": true,
    "ExecuteTime": {
     "end_time": "2025-03-11T01:32:59.610969Z",
     "start_time": "2025-03-11T01:32:58.921237Z"
    }
   },
   "source": [
    "import pandas as pd\n",
    "from sklearn.neighbors import KNeighborsClassifier\n",
    "\n",
    "file_path = \"C:/Users/xogns/AI_Introduction/week02/dataset/diabetes.csv\"\n",
    "df = pd.read_csv(file_path)\n",
    "\n"
   ],
   "outputs": [],
   "execution_count": 1
  },
  {
   "metadata": {
    "ExecuteTime": {
     "end_time": "2025-03-11T01:35:30.873294Z",
     "start_time": "2025-03-11T01:35:30.868392Z"
    }
   },
   "cell_type": "code",
   "source": [
    "from sklearn.preprocessing import LabelEncoder\n",
    "from sklearn.model_selection import train_test_split\n",
    "from sklearn.tree import DecisionTreeClassifier\n",
    "from sklearn.ensemble import RandomForestClassifier\n",
    "from sklearn.svm import SVC\n",
    "from sklearn.linear_model import LogisticRegression\n",
    "from sklearn.metrics import accuracy_score, classification_report\n",
    "from sklearn.neighbors import KNeighborsClassifier"
   ],
   "id": "c488be75ad6d6258",
   "outputs": [],
   "execution_count": 9
  },
  {
   "metadata": {
    "ExecuteTime": {
     "end_time": "2025-03-11T01:34:00.520325Z",
     "start_time": "2025-03-11T01:34:00.513561Z"
    }
   },
   "cell_type": "code",
   "source": [
    "x = df.drop(columns=['Outcome'])\n",
    "y = df['Outcome']\n",
    "\n",
    "x_train, x_test, y_train, y_test = train_test_split(\n",
    "    x,y,\n",
    "    test_size=0.3,\n",
    "    random_state=42\n",
    ")"
   ],
   "id": "b4d35cf4c2b7e378",
   "outputs": [],
   "execution_count": 3
  },
  {
   "metadata": {
    "ExecuteTime": {
     "end_time": "2025-03-11T01:34:02.022803Z",
     "start_time": "2025-03-11T01:34:02.014747Z"
    }
   },
   "cell_type": "code",
   "source": [
    "dt_model = DecisionTreeClassifier()\n",
    "dt_model.fit(x_train, y_train)\n",
    "dt_pred = dt_model.predict(x_test)\n",
    "dt_accuracy = accuracy_score(y_test, dt_pred)\n",
    "print(f'Decision Tree Accuracy: {dt_accuracy:.4f}')"
   ],
   "id": "4bb6a2820b92859a",
   "outputs": [
    {
     "name": "stdout",
     "output_type": "stream",
     "text": [
      "Decision Tree Accuracy: 0.7056\n"
     ]
    }
   ],
   "execution_count": 4
  },
  {
   "metadata": {
    "ExecuteTime": {
     "end_time": "2025-03-11T01:34:11.166329Z",
     "start_time": "2025-03-11T01:34:11.035550Z"
    }
   },
   "cell_type": "code",
   "source": [
    "# 랜덤 포레스트 학습 및 평가\n",
    "rf_model = RandomForestClassifier()\n",
    "rf_model.fit(x_train, y_train)\n",
    "rf_pred = rf_model.predict(x_test)\n",
    "rf_accuracy = accuracy_score(y_test, rf_pred)\n",
    "print(f\"Random Forest Accuracy: {rf_accuracy:.4f}\")"
   ],
   "id": "abc0157b2acc0eb9",
   "outputs": [
    {
     "name": "stdout",
     "output_type": "stream",
     "text": [
      "Random Forest Accuracy: 0.7446\n"
     ]
    }
   ],
   "execution_count": 5
  },
  {
   "metadata": {
    "ExecuteTime": {
     "end_time": "2025-03-11T01:34:17.081571Z",
     "start_time": "2025-03-11T01:34:17.065954Z"
    }
   },
   "cell_type": "code",
   "source": [
    "# SVM 학습 및 평가\n",
    "svm_model = SVC()\n",
    "svm_model.fit(x_train, y_train)\n",
    "svm_pred = svm_model.predict(x_test)\n",
    "svm_accuracy = accuracy_score(y_test, svm_pred)\n",
    "print(f\"SVM Accuracy: {svm_accuracy:.4f}\")"
   ],
   "id": "c29f3a036a50ddbc",
   "outputs": [
    {
     "name": "stdout",
     "output_type": "stream",
     "text": [
      "SVM Accuracy: 0.7359\n"
     ]
    }
   ],
   "execution_count": 6
  },
  {
   "metadata": {
    "ExecuteTime": {
     "end_time": "2025-03-11T01:34:29.975689Z",
     "start_time": "2025-03-11T01:34:29.939777Z"
    }
   },
   "cell_type": "code",
   "source": [
    "# 로지스틱 회귀 학습 및 평가\n",
    "lr_model = LogisticRegression(max_iter=200)\n",
    "lr_model.fit(x_train, y_train)\n",
    "lr_pred = lr_model.predict(x_test)\n",
    "lr_accuracy = accuracy_score(y_test, lr_pred)\n",
    "print(f\"Logistic Regression Accuracy: {lr_accuracy:.4f}\")"
   ],
   "id": "fc1db86e1b66a60a",
   "outputs": [
    {
     "name": "stdout",
     "output_type": "stream",
     "text": [
      "Logistic Regression Accuracy: 0.7359\n"
     ]
    }
   ],
   "execution_count": 7
  },
  {
   "metadata": {
    "ExecuteTime": {
     "end_time": "2025-03-11T01:38:15.068582Z",
     "start_time": "2025-03-11T01:38:15.049785Z"
    }
   },
   "cell_type": "code",
   "source": [
    "knn = KNeighborsClassifier(n_neighbors=7)\n",
    "knn.fit(x_train, y_train)\n",
    "y_pred = knn.predict(x_test)\n",
    "knn_accuracy = accuracy_score(y_test, y_pred)\n",
    "print(f\"KNN Accuracy: {knn_accuracy:.4f}\")"
   ],
   "id": "8956290ce3905217",
   "outputs": [
    {
     "name": "stdout",
     "output_type": "stream",
     "text": [
      "KNN Accuracy: 0.6926\n"
     ]
    }
   ],
   "execution_count": 11
  },
  {
   "metadata": {},
   "cell_type": "code",
   "outputs": [],
   "execution_count": null,
   "source": "",
   "id": "1710937317cfecd1"
  }
 ],
 "metadata": {
  "kernelspec": {
   "display_name": "Python 3",
   "language": "python",
   "name": "python3"
  },
  "language_info": {
   "codemirror_mode": {
    "name": "ipython",
    "version": 2
   },
   "file_extension": ".py",
   "mimetype": "text/x-python",
   "name": "python",
   "nbconvert_exporter": "python",
   "pygments_lexer": "ipython2",
   "version": "2.7.6"
  }
 },
 "nbformat": 4,
 "nbformat_minor": 5
}
