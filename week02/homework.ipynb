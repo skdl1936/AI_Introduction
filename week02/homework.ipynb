{
 "cells": [
  {
   "cell_type": "code",
   "id": "initial_id",
   "metadata": {
    "collapsed": true,
    "ExecuteTime": {
     "end_time": "2025-03-12T04:59:06.096878Z",
     "start_time": "2025-03-12T04:59:04.189087Z"
    }
   },
   "source": [
    "#1. 데이터 로드\n",
    "import pandas as pd\n",
    "from sklearn.neighbors import KNeighborsClassifier\n",
    "\n",
    "file_path = \"../week02/dataset/titanic.csv\"\n",
    "df = pd.read_csv(file_path)\n"
   ],
   "outputs": [],
   "execution_count": 1
  },
  {
   "metadata": {
    "ExecuteTime": {
     "end_time": "2025-03-12T04:59:06.968659Z",
     "start_time": "2025-03-12T04:59:06.866268Z"
    }
   },
   "cell_type": "code",
   "source": [
    "from sklearn.model_selection import train_test_split\n",
    "from sklearn.tree import DecisionTreeClassifier\n",
    "from sklearn.ensemble import RandomForestClassifier\n",
    "from sklearn.svm import SVC\n",
    "from sklearn.linear_model import LogisticRegression\n",
    "from sklearn.neighbors import KNeighborsClassifier\n",
    "from sklearn.metrics import accuracy_score, confusion_matrix"
   ],
   "id": "68cbd0ca6f5d3e63",
   "outputs": [],
   "execution_count": 2
  },
  {
   "metadata": {
    "ExecuteTime": {
     "end_time": "2025-03-12T04:59:07.489434Z",
     "start_time": "2025-03-12T04:59:07.482289Z"
    }
   },
   "cell_type": "code",
   "source": [
    "# 결측치 확인\n",
    "df.isnull().sum()"
   ],
   "id": "5368f725da47ac15",
   "outputs": [
    {
     "data": {
      "text/plain": [
       "PassengerId      0\n",
       "Survived         0\n",
       "Pclass           0\n",
       "Name             0\n",
       "Sex              0\n",
       "Age            177\n",
       "SibSp            0\n",
       "Parch            0\n",
       "Ticket           0\n",
       "Fare             0\n",
       "Cabin          687\n",
       "Embarked         2\n",
       "dtype: int64"
      ]
     },
     "execution_count": 3,
     "metadata": {},
     "output_type": "execute_result"
    }
   ],
   "execution_count": 3
  },
  {
   "metadata": {
    "ExecuteTime": {
     "end_time": "2025-03-12T04:59:08.213023Z",
     "start_time": "2025-03-12T04:59:08.208280Z"
    }
   },
   "cell_type": "code",
   "source": [
    "# 결측치 제거\n",
    "df['Age'] =df['Age'].fillna(df['Age'].mean())"
   ],
   "id": "6daad35eb8a449dc",
   "outputs": [],
   "execution_count": 4
  },
  {
   "metadata": {
    "ExecuteTime": {
     "end_time": "2025-03-12T04:59:08.746786Z",
     "start_time": "2025-03-12T04:59:08.743396Z"
    }
   },
   "cell_type": "code",
   "source": [
    "# 레이블 확인\n",
    "print(df.columns)"
   ],
   "id": "c5dbb8feb429c634",
   "outputs": [
    {
     "name": "stdout",
     "output_type": "stream",
     "text": [
      "Index(['PassengerId', 'Survived', 'Pclass', 'Name', 'Sex', 'Age', 'SibSp',\n",
      "       'Parch', 'Ticket', 'Fare', 'Cabin', 'Embarked'],\n",
      "      dtype='object')\n"
     ]
    }
   ],
   "execution_count": 5
  },
  {
   "metadata": {
    "ExecuteTime": {
     "end_time": "2025-03-12T04:59:09.316357Z",
     "start_time": "2025-03-12T04:59:09.311844Z"
    }
   },
   "cell_type": "code",
   "source": [
    "# 불필요한 컬럼 제거\n",
    "df = df.drop(columns=['Name','Embarked','Ticket','Cabin','PassengerId'])"
   ],
   "id": "6c985ce49339cc85",
   "outputs": [],
   "execution_count": 6
  },
  {
   "metadata": {
    "ExecuteTime": {
     "end_time": "2025-03-12T04:59:09.949542Z",
     "start_time": "2025-03-12T04:59:09.943267Z"
    }
   },
   "cell_type": "code",
   "source": [
    "# 인코딩 전 데이터 확인\n",
    "df['Sex'].value_counts()"
   ],
   "id": "49f1bf31071450ce",
   "outputs": [
    {
     "data": {
      "text/plain": [
       "Sex\n",
       "male      577\n",
       "female    314\n",
       "Name: count, dtype: int64"
      ]
     },
     "execution_count": 7,
     "metadata": {},
     "output_type": "execute_result"
    }
   ],
   "execution_count": 7
  },
  {
   "metadata": {
    "ExecuteTime": {
     "end_time": "2025-03-12T04:59:10.658077Z",
     "start_time": "2025-03-12T04:59:10.653318Z"
    }
   },
   "cell_type": "code",
   "source": [
    "# 숫자 인코딩 (알파벳 순으로 숫자 부여)\n",
    "from sklearn.preprocessing import LabelEncoder\n",
    "encoder = LabelEncoder()\n",
    "df['Sex'] = encoder.fit_transform(df['Sex'])\n",
    "\n",
    "print(df['Sex'].head())"
   ],
   "id": "ff74233ae035325d",
   "outputs": [
    {
     "name": "stdout",
     "output_type": "stream",
     "text": [
      "0    1\n",
      "1    0\n",
      "2    0\n",
      "3    0\n",
      "4    1\n",
      "Name: Sex, dtype: int32\n"
     ]
    }
   ],
   "execution_count": 8
  },
  {
   "metadata": {
    "ExecuteTime": {
     "end_time": "2025-03-12T04:59:11.197622Z",
     "start_time": "2025-03-12T04:59:11.191464Z"
    }
   },
   "cell_type": "code",
   "source": [
    "# 인코딩 후 데이터 확인\n",
    "df['Sex'].value_counts()"
   ],
   "id": "fa619e3f2c50eddb",
   "outputs": [
    {
     "data": {
      "text/plain": [
       "Sex\n",
       "1    577\n",
       "0    314\n",
       "Name: count, dtype: int64"
      ]
     },
     "execution_count": 9,
     "metadata": {},
     "output_type": "execute_result"
    }
   ],
   "execution_count": 9
  },
  {
   "metadata": {
    "ExecuteTime": {
     "end_time": "2025-03-12T04:59:11.824529Z",
     "start_time": "2025-03-12T04:59:11.814082Z"
    }
   },
   "cell_type": "code",
   "source": [
    "# 데이터 분리\n",
    "x = df.drop(columns=['Survived'])\n",
    "y = df['Survived']\n",
    "\n",
    "x_train, x_test, y_train, y_test = train_test_split(\n",
    "    x,y, test_size=0.3, random_state=42\n",
    ")\n"
   ],
   "id": "94ad4760c8cbabf3",
   "outputs": [],
   "execution_count": 10
  },
  {
   "metadata": {
    "ExecuteTime": {
     "end_time": "2025-03-12T04:59:12.576177Z",
     "start_time": "2025-03-12T04:59:12.561244Z"
    }
   },
   "cell_type": "code",
   "source": [
    "# DT (걸정 트리)\n",
    "dt = DecisionTreeClassifier()\n",
    "dt.fit(x_train, y_train)\n",
    "y_pred = dt.predict(x_test)\n",
    "dt_accuracy = accuracy_score(y_test, y_pred)\n",
    "dt_cm = confusion_matrix(y_test, y_pred)\n",
    "print(f'DT 정확도 {dt_accuracy:.2f}')\n",
    "print(dt_cm)"
   ],
   "id": "1ac5b2050215f582",
   "outputs": [
    {
     "name": "stdout",
     "output_type": "stream",
     "text": [
      "DT 정확도 0.74\n",
      "[[126  31]\n",
      " [ 39  72]]\n"
     ]
    }
   ],
   "execution_count": 11
  },
  {
   "metadata": {
    "ExecuteTime": {
     "end_time": "2025-03-12T04:59:13.266358Z",
     "start_time": "2025-03-12T04:59:13.098394Z"
    }
   },
   "cell_type": "code",
   "source": [
    "# RF\n",
    "rf = RandomForestClassifier()\n",
    "rf.fit(x_train, y_train)\n",
    "y_pred = rf.predict(x_test)\n",
    "rf_accuracy = accuracy_score(y_test, y_pred)\n",
    "rf_cm = confusion_matrix(y_test, y_pred)\n",
    "print(f'RF 정확도 {rf_accuracy:.2f}')\n",
    "print(rf_cm)"
   ],
   "id": "147f794bd12096c7",
   "outputs": [
    {
     "name": "stdout",
     "output_type": "stream",
     "text": [
      "RF 정확도 0.79\n",
      "[[136  21]\n",
      " [ 35  76]]\n"
     ]
    }
   ],
   "execution_count": 12
  },
  {
   "metadata": {
    "ExecuteTime": {
     "end_time": "2025-03-12T04:59:13.841394Z",
     "start_time": "2025-03-12T04:59:13.806388Z"
    }
   },
   "cell_type": "code",
   "source": [
    "# SVM\n",
    "svm = SVC()\n",
    "svm.fit(x_train, y_train)\n",
    "y_pred = svm.predict(x_test)\n",
    "svm_accuracy = accuracy_score(y_test, y_pred)\n",
    "svm_cm = confusion_matrix(y_test, y_pred)\n",
    "print(f'SVM 정확도 {svm_accuracy:.2f}')\n",
    "print(svm_cm)"
   ],
   "id": "15fc9bcc7ff5113d",
   "outputs": [
    {
     "name": "stdout",
     "output_type": "stream",
     "text": [
      "SVM 정확도 0.66\n",
      "[[148   9]\n",
      " [ 82  29]]\n"
     ]
    }
   ],
   "execution_count": 13
  },
  {
   "metadata": {
    "ExecuteTime": {
     "end_time": "2025-03-12T04:59:14.454619Z",
     "start_time": "2025-03-12T04:59:14.391046Z"
    }
   },
   "cell_type": "code",
   "source": [
    "# LR\n",
    "lr = LogisticRegression()\n",
    "lr.fit(x_train, y_train)\n",
    "y_pred = lr.predict(x_test)\n",
    "lr_accuracy = accuracy_score(y_test, y_pred)\n",
    "lr_cm = confusion_matrix(y_test, y_pred)\n",
    "print(f'lr 정확도 {lr_accuracy:.2f}')\n",
    "print(lr_cm)"
   ],
   "id": "dc9868f5b19fdd61",
   "outputs": [
    {
     "name": "stdout",
     "output_type": "stream",
     "text": [
      "lr 정확도 0.81\n",
      "[[139  18]\n",
      " [ 32  79]]\n"
     ]
    }
   ],
   "execution_count": 14
  },
  {
   "metadata": {
    "ExecuteTime": {
     "end_time": "2025-03-12T04:59:14.957601Z",
     "start_time": "2025-03-12T04:59:14.930620Z"
    }
   },
   "cell_type": "code",
   "source": [
    "# KNN\n",
    "knn = KNeighborsClassifier(n_neighbors=3)\n",
    "knn.fit(x_train, y_train)\n",
    "y_pred = knn.predict(x_test)\n",
    "knn_accuracy = accuracy_score(y_test, y_pred)\n",
    "knn_cm = confusion_matrix(y_test, y_pred)\n",
    "print(f'knn 정확도 {knn_accuracy:.2f}')\n",
    "print(knn_cm)"
   ],
   "id": "ab66ae3e981a0d66",
   "outputs": [
    {
     "name": "stdout",
     "output_type": "stream",
     "text": [
      "knn 정확도 0.70\n",
      "[[131  26]\n",
      " [ 55  56]]\n"
     ]
    }
   ],
   "execution_count": 15
  },
  {
   "metadata": {},
   "cell_type": "markdown",
   "source": [
    "# 혼동 행렬(Confusion Matrix)이란?\n",
    "## 기본 개념\n",
    "- 분류 모델의 성능을 평가하는 표로 2x2 행렬로 표현된다.\n",
    "- 즉, 모델이 예측한 값과 실제 정답을 비교해서 정확하게 맞춘것과 틀린것을 정리하는 표\n",
    "| 실제/예측 | 예측 0(Negative) | 예측: 1 (Positive)|\n",
    "|-------|-------|-------|\n",
    "| 실제0 (Negative) | TN(진짜 음성)| FP(거짓 양성)|\n",
    "| 실제1(Positive) | FN(거짓 음성)| TP(진짜 양성)|\n"
   ],
   "id": "ec0b4e99fe119bb1"
  },
  {
   "metadata": {},
   "cell_type": "markdown",
   "source": "",
   "id": "715ad1a455825440"
  },
  {
   "metadata": {},
   "cell_type": "markdown",
   "source": "",
   "id": "6bb72ca1c6e41f8f"
  }
 ],
 "metadata": {
  "kernelspec": {
   "display_name": "Python 3",
   "language": "python",
   "name": "python3"
  },
  "language_info": {
   "codemirror_mode": {
    "name": "ipython",
    "version": 2
   },
   "file_extension": ".py",
   "mimetype": "text/x-python",
   "name": "python",
   "nbconvert_exporter": "python",
   "pygments_lexer": "ipython2",
   "version": "2.7.6"
  }
 },
 "nbformat": 4,
 "nbformat_minor": 5
}
